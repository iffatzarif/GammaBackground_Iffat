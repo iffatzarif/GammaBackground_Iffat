{
 "cells": [
  {
   "cell_type": "markdown",
   "id": "1d8fa6a1",
   "metadata": {},
   "source": [
    "### Import libraries"
   ]
  },
  {
   "cell_type": "code",
   "execution_count": 1,
   "id": "8aeca7b4",
   "metadata": {},
   "outputs": [
    {
     "name": "stdout",
     "output_type": "stream",
     "text": [
      "Welcome to JupyROOT 6.24/02\n"
     ]
    }
   ],
   "source": [
    "import sys\n",
    "import numpy as np\n",
    "import os\n",
    "import pandas as pd\n",
    "import uproot\n",
    "import time\n",
    "import matplotlib.pyplot as plt\n",
    "import awkward as ak\n",
    "import matplotlib as mpl\n",
    "\n",
    "\n",
    "\n",
    "from dt5202 import dt5202_crunch # Import parser that Tom wrote. This is containted in the file \n",
    "                                 # named dt5202.py in the lib folder.\n",
    "from dt5202oldDAQ import dt5202_crunch as dt5202_crunch_oldDAQ # Old ver\n",
    "\n",
    "from langaus import LanGausFit \n",
    "\n",
    "\n",
    "import warnings\n",
    "warnings.filterwarnings(\"ignore\")"
   ]
  },
  {
   "cell_type": "markdown",
   "id": "d178883a",
   "metadata": {},
   "source": [
    "### Import Simulation Data (Muons)"
   ]
  },
  {
   "cell_type": "code",
   "execution_count": 2,
   "id": "86bbcb7a",
   "metadata": {},
   "outputs": [],
   "source": [
    "folder = \"/home/jat89/project/muonVeto/muonFiles/\"\n",
    "\n",
    "colnames = [\"ChainNumber\", \"ParticleInputEnergy\", \"ParticleDirectionX\", \"ParticleDirectionY\", \"ParticleDirectionZ\", \"Energy_Phase0BottomMVThickSolid\"]\n",
    "array_muons = uproot.concatenate(folder+\"Muons_25*.root:qtree\", colnames, library = 'np', allow_missing = True)#question mark wildcard\n",
    "\n",
    "df_muons = pd.DataFrame(array_muons)"
   ]
  },
  {
   "cell_type": "markdown",
   "id": "5ad59424",
   "metadata": {},
   "source": [
    "### Import Simulation Data (Gamma)"
   ]
  },
  {
   "cell_type": "code",
   "execution_count": 3,
   "id": "d04bdeac",
   "metadata": {},
   "outputs": [],
   "source": [
    "folder = \"/home/jat89/project/muonVeto/gammaFiles/phase0/\"\n",
    "\n",
    "colnames = [\"ChainNumber\", \"ParticleInputEnergy\", \"ParticleDirectionX\", \"ParticleDirectionY\"\n",
    "            , \"ParticleDirectionZ\", \"Energy_Phase0BottomMVThickSolid\"]\n",
    "array = uproot.concatenate(folder+\"Gammas_5*.root:qtree\", colnames, library = 'np', allow_missing = True)#question mark wildcard\n",
    "\n",
    "df = pd.DataFrame(array)\n",
    "\n"
   ]
  },
  {
   "cell_type": "markdown",
   "id": "5263c16e",
   "metadata": {},
   "source": [
    "### Put Gamma and Muon Data into Separate Arrays"
   ]
  },
  {
   "cell_type": "code",
   "execution_count": 4,
   "id": "81f9155b",
   "metadata": {},
   "outputs": [],
   "source": [
    "gamma_spectrum = []\n",
    "muon_spectrum = []\n",
    "for element in df.Energy_Phase0BottomMVThickSolid:\n",
    "    if(len(element)==0):\n",
    "        continue\n",
    "    else:\n",
    "        gamma_spectrum.append(element[0])\n",
    "        \n",
    "for element in df_muons.Energy_Phase0BottomMVThickSolid:\n",
    "    if(len(element)==0):\n",
    "        continue\n",
    "    else:\n",
    "        muon_spectrum.append(element[0])"
   ]
  },
  {
   "cell_type": "markdown",
   "id": "2324256b",
   "metadata": {},
   "source": [
    "### Import Lab Data "
   ]
  },
  {
   "cell_type": "code",
   "execution_count": 5,
   "id": "0f08570e",
   "metadata": {},
   "outputs": [],
   "source": [
    "%%capture\n",
    "\n",
    "sourceFolder = \"/home/dt592/data/board1771_01192023_retestingSwirlyPanel/\"\n",
    "\n",
    "onlyfiles = [f for f in os.listdir(sourceFolder) if '.dat' in f]\n",
    "\n",
    "data_list = []\n",
    "for file in onlyfiles:\n",
    "    data_list.append(dt5202_crunch(str(sourceFolder)+str(file), num_ev=100000000, num_ch=1))\n",
    "\n",
    "data = data_list[0]\n",
    "for i in range(1, len(data_list)):\n",
    "    data = np.append(data, data_list[i])\n",
    "\n",
    "#Declare constants\n",
    "ped = 50\n",
    "adc_mev = 538.3933387436877\n",
    "\n",
    "# Convert lab data to MeV\n",
    "d = data['data']['low_gain']-ped\n",
    "lab_mev = (d.astype('float64'))/adc_mev # lab data in MeV"
   ]
  },
  {
   "cell_type": "code",
   "execution_count": 6,
   "id": "33e8d4da",
   "metadata": {},
   "outputs": [
    {
     "data": {
      "text/plain": [
       "223068"
      ]
     },
     "execution_count": 6,
     "metadata": {},
     "output_type": "execute_result"
    }
   ],
   "source": [
    "len(lab_mev)"
   ]
  },
  {
   "cell_type": "code",
   "execution_count": null,
   "id": "606c9191",
   "metadata": {},
   "outputs": [],
   "source": []
  }
 ],
 "metadata": {
  "kernelspec": {
   "display_name": "Python 3 (ipykernel)",
   "language": "python",
   "name": "python3"
  },
  "language_info": {
   "codemirror_mode": {
    "name": "ipython",
    "version": 3
   },
   "file_extension": ".py",
   "mimetype": "text/x-python",
   "name": "python",
   "nbconvert_exporter": "python",
   "pygments_lexer": "ipython3",
   "version": "3.8.10"
  }
 },
 "nbformat": 4,
 "nbformat_minor": 5
}
