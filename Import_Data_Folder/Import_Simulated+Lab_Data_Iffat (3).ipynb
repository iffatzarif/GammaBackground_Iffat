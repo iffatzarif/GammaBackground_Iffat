{
 "cells": [
  {
   "cell_type": "markdown",
   "id": "1d8fa6a1",
   "metadata": {},
   "source": [
    "### Import libraries"
   ]
  },
  {
   "cell_type": "code",
   "execution_count": 1,
   "id": "8aeca7b4",
   "metadata": {},
   "outputs": [
    {
     "name": "stdout",
     "output_type": "stream",
     "text": [
      "Welcome to JupyROOT 6.24/02\n"
     ]
    }
   ],
   "source": [
    "import sys\n",
    "import numpy as np\n",
    "import os\n",
    "import pandas as pd\n",
    "import uproot\n",
    "import time\n",
    "import matplotlib.pyplot as plt\n",
    "import awkward as ak\n",
    "import matplotlib as mpl"
   ]
  },
  {
   "cell_type": "markdown",
   "id": "d178883a",
   "metadata": {},
   "source": [
    "### Import Simulation Data (Muons) (LNGS)"
   ]
  },
  {
   "cell_type": "code",
   "execution_count": 2,
   "id": "86bbcb7a",
   "metadata": {},
   "outputs": [],
   "source": [
    "folder = \"/home/jat89/project/muonVeto/muonFiles/\"\n",
    "\n",
    "colnames = [\"ChainNumber\", \"ParticleInputEnergy\", \"ParticleDirectionX\", \"ParticleDirectionY\", \"ParticleDirectionZ\", \"Energy_Phase0BottomMVThickSolid\"]\n",
    "array_muons = uproot.concatenate(folder+\"Muons_25*.root:qtree\", colnames, library = 'np', allow_missing = True)#question mark wildcard\n",
    "\n",
    "df_muons = pd.DataFrame(array_muons)"
   ]
  },
  {
   "cell_type": "markdown",
   "id": "5ad59424",
   "metadata": {},
   "source": [
    "### Import Simulation Data (Gamma) (LNGS)"
   ]
  },
  {
   "cell_type": "code",
   "execution_count": 3,
   "id": "d04bdeac",
   "metadata": {},
   "outputs": [],
   "source": [
    "folder = \"/home/jat89/project/muonVeto/gammaFiles/phase0/\"\n",
    "\n",
    "colnames = [\"ChainNumber\", \"ParticleInputEnergy\", \"ParticleDirectionX\", \"ParticleDirectionY\"\n",
    "            , \"ParticleDirectionZ\", \"Energy_Phase0BottomMVThickSolid\"]\n",
    "array = uproot.concatenate(folder+\"Gammas_5*.root:qtree\", colnames, library = 'np', allow_missing = True)#question mark wildcard\n",
    "\n",
    "df = pd.DataFrame(array)\n",
    "\n"
   ]
  },
  {
   "cell_type": "markdown",
   "id": "5263c16e",
   "metadata": {},
   "source": [
    "### Put Gamma and Muon Data into Separate Arrays"
   ]
  },
  {
   "cell_type": "code",
   "execution_count": 4,
   "id": "81f9155b",
   "metadata": {},
   "outputs": [],
   "source": [
    "gamma_spectrum = []\n",
    "muon_spectrum = []\n",
    "for element in df.Energy_Phase0BottomMVThickSolid:\n",
    "    if(len(element)==0):\n",
    "        continue\n",
    "    else:\n",
    "        gamma_spectrum.append(element[0])\n",
    "        \n",
    "for element in df_muons.Energy_Phase0BottomMVThickSolid:\n",
    "    if(len(element)==0):\n",
    "        continue\n",
    "    else:\n",
    "        muon_spectrum.append(element[0])"
   ]
  },
  {
   "cell_type": "markdown",
   "id": "dab0ee4d",
   "metadata": {},
   "source": [
    "### Import Simulation Data (Gamma) (Lab)"
   ]
  },
  {
   "cell_type": "code",
   "execution_count": null,
   "id": "403f838b",
   "metadata": {},
   "outputs": [],
   "source": [
    "folder_g = \"gamma_sim/gamma_sim-build/\" # location of the gamma sim build folder\n",
    "folder_m = \"muons_edited/muonsInPanel_build/\" # location of the muon sim build folder\n",
    " \n",
    "# Open ROOT files\n",
    "f1460 = TFile.Open(folder_g + \"K40-1460KeV-10x.root\",\"READ\")\n",
    "f2614 = TFile.Open(folder_g + \"Tl208-2614KeV-25x.root\",\"READ\")\n",
    "\n",
    "# Bismuth peaks\n",
    "f1120 = TFile.Open(folder_g + \"Bi214-1120KeV-25x.root\", \"READ\")\n",
    "f1238 = TFile.Open(folder_g + \"Bi214-1238KeV-25x.root\", \"READ\")\n",
    "f1764 = TFile.Open(folder_g + \"Bi214-1764KeV-25x.root\", \"READ\")\n",
    "f2204 = TFile.Open(folder_g + \"Bi214-2204KeV-25x.root\", \"READ\")\n",
    "\n",
    "# Lower peaks\n",
    "f968 = TFile.Open(folder_g + \"Ac228-968KeV-25x.root\", \"READ\")\n",
    "f934 = TFile.Open(folder_g + \"Bi214-934KeV-25x.root\", \"READ\")\n",
    "f911 = TFile.Open(folder_g + \"Ac228-911KeV-25x.root\", \"READ\")\n",
    "f609 = TFile.Open(folder_g + \"Bi214-609KeV-25x.root\", \"READ\")\n",
    "f583 = TFile.Open(folder_g + \"Tl208-583KeV-25x.root\", \"READ\")\n",
    "\n",
    "# Muons\n",
    "muons = TFile(folder_m + \"muonsJ_normalized.root\", \"READ\")\n",
    "\n",
    "## \n",
    "\n",
    "# Read the TTree for main two gamma isotopes\n",
    "tree1460 = f1460.Get(\"Hits\")\n",
    "tree2614 = f2614.Get(\"Hits\")\n",
    "\n",
    "# Read the TTree for the nearby Bismuth-214 isotopes\n",
    "tree1120 = f1120.Get(\"Hits\")\n",
    "tree1238 = f1238.Get(\"Hits\")\n",
    "tree1764 = f1764.Get(\"Hits\")\n",
    "tree2204 = f2204.Get(\"Hits\")\n",
    "\n",
    "# Read the TTree for the remaining low-freq. isotopes\n",
    "tree968 = f968.Get(\"Hits\")\n",
    "tree934 = f934.Get(\"Hits\")\n",
    "tree911 = f911.Get(\"Hits\")\n",
    "tree609 = f609.Get(\"Hits\")\n",
    "tree583 = f583.Get(\"Hits\")\n",
    "\n",
    "# For the TTree for Muons\n",
    "a = muons.Get(\"ntuple\")\n",
    "muonstree = a.Get(\"parTup\")"
   ]
  },
  {
   "cell_type": "code",
   "execution_count": null,
   "id": "60324d94",
   "metadata": {},
   "outputs": [],
   "source": [
    "# Append the energy values from the TTree into an array\n",
    "energyDeposited1460 = []\n",
    "entries= tree1460.GetEntries();\n",
    "for i in range(0,entries):\n",
    "    tree1460.GetEntry(i)\n",
    "    energyDeposited1460.append(tree1460.EnergyDeposited)\n",
    "\n",
    "energyDeposited2614 = []\n",
    "entries= tree2614.GetEntries();\n",
    "for i in range(0,entries):\n",
    "    tree2614.GetEntry(i)\n",
    "    energyDeposited2614.append(tree2614.EnergyDeposited)\n",
    "\n",
    "energyDeposited1120 = []\n",
    "entries= tree1120.GetEntries();\n",
    "for i in range(0,entries):\n",
    "    tree1120.GetEntry(i)\n",
    "    energyDeposited1120.append(tree1120.EnergyDeposited)\n",
    "\n",
    "energyDeposited1238 = []\n",
    "entries= tree1238.GetEntries();\n",
    "for i in range(0,entries):\n",
    "    tree1238.GetEntry(i)\n",
    "    energyDeposited1238.append(tree1238.EnergyDeposited)\n",
    "\n",
    "energyDeposited1764 = []\n",
    "entries= tree1764.GetEntries();\n",
    "for i in range(0,entries):\n",
    "    tree1764.GetEntry(i)\n",
    "    energyDeposited1764.append(tree1764.EnergyDeposited)\n",
    "\n",
    "energyDeposited2204 = []\n",
    "entries= tree2204.GetEntries();\n",
    "for i in range(0,entries):\n",
    "    tree2204.GetEntry(i)\n",
    "    energyDeposited2204.append(tree2204.EnergyDeposited)\n",
    "    \n",
    "# And the remaining peaks\n",
    "energyDeposited968 = []\n",
    "entries= tree968.GetEntries();\n",
    "for i in range(0,entries):\n",
    "    tree968.GetEntry(i)\n",
    "    energyDeposited968.append(tree968.EnergyDeposited)\n",
    "\n",
    "energyDeposited934 = []\n",
    "entries= tree934.GetEntries();\n",
    "for i in range(0,entries):\n",
    "    tree934.GetEntry(i)\n",
    "    energyDeposited934.append(tree934.EnergyDeposited)\n",
    "\n",
    "energyDeposited911 = []\n",
    "entries= tree911.GetEntries();\n",
    "for i in range(0,entries):\n",
    "    tree911.GetEntry(i)\n",
    "    energyDeposited911.append(tree911.EnergyDeposited)\n",
    "\n",
    "energyDeposited609 = []\n",
    "entries= tree609.GetEntries();\n",
    "for i in range(0,entries):\n",
    "    tree609.GetEntry(i)\n",
    "    energyDeposited609.append(tree609.EnergyDeposited)\n",
    "\n",
    "energyDeposited583 = []\n",
    "entries= tree583.GetEntries();\n",
    "for i in range(0,entries):\n",
    "    tree583.GetEntry(i)\n",
    "    energyDeposited583.append(tree583.EnergyDeposited)\n",
    "    \n",
    "# Append muons\n",
    "muonsEnergy = []\n",
    "for event in muonstree:\n",
    "    muonsEnergy.append(event.Edeposited)"
   ]
  },
  {
   "cell_type": "markdown",
   "id": "5e53b3af",
   "metadata": {},
   "source": [
    "### Import Lab Data"
   ]
  },
  {
   "cell_type": "code",
   "execution_count": null,
   "id": "8ef9e56d",
   "metadata": {},
   "outputs": [],
   "source": [
    "%%capture\n",
    "\n",
    "sourceFolder = \"/home/iz43/GammaBackgroundElimination_Iffat/\"\n",
    "\n",
    "onlyfiles = [f for f in os.listdir(sourceFolder) if '.dat' in f]\n",
    "print(onlyfiles)\n",
    "data_list = []\n",
    "for file in onlyfiles:\n",
    "    data_list.append(dt5202_crunch(str(sourceFolder)+str(file), num_ev=100000000, num_ch=1))\n",
    "\n",
    "data = data_list[0]\n",
    "for i in range(1, len(data_list)):\n",
    "    data = np.append(data, data_list[i])"
   ]
  },
  {
   "cell_type": "code",
   "execution_count": null,
   "id": "885a5623",
   "metadata": {},
   "outputs": [],
   "source": [
    "# Convert lab data to MeV\n",
    "\n",
    "d = data['data']['low_gain']-ped\n",
    "lab_mev = (d.astype('float64'))/adc_mev # lab data in MeV"
   ]
  }
 ],
 "metadata": {
  "kernelspec": {
   "display_name": "Python 3 (ipykernel)",
   "language": "python",
   "name": "python3"
  },
  "language_info": {
   "codemirror_mode": {
    "name": "ipython",
    "version": 3
   },
   "file_extension": ".py",
   "mimetype": "text/x-python",
   "name": "python",
   "nbconvert_exporter": "python",
   "pygments_lexer": "ipython3",
   "version": "3.8.10"
  }
 },
 "nbformat": 4,
 "nbformat_minor": 5
}
